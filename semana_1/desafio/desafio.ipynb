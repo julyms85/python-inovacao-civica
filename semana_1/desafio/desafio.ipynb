{
  "cells": [
    {
      "cell_type": "markdown",
      "id": "b0c02ae8-da85-499a-99c9-8c3da9e1ae05",
      "metadata": {
        "id": "b0c02ae8-da85-499a-99c9-8c3da9e1ae05"
      },
      "source": [
        "# Explorando dados\n",
        "\n",
        "Neste desafio colocaremos em prática alguns conceitos apresentado nas aulas. Para isso, usaremos o conjunto de dados [Candidatos - 2022](https://dadosabertos.tse.jus.br/dataset/candidatos-2022) disponível no Portal de Dados Abertos do Tribunal Superior Eleitoral.\n",
        "\n",
        "Os dados também podem ser encontrados na pasta \"Dados\" deste repositório.\n",
        "\n",
        "Siga as orientações abaixo para completar o desafio:"
      ]
    },
    {
      "cell_type": "markdown",
      "id": "d2bf34dd-2879-4dd6-b65b-4944a34c03d4",
      "metadata": {
        "id": "d2bf34dd-2879-4dd6-b65b-4944a34c03d4"
      },
      "source": [
        "# Importe os pacotes necessários"
      ]
    },
    {
      "cell_type": "code",
      "execution_count": 1,
      "id": "b286617f-43b9-4c20-8b0e-5ae0da7e4a9f",
      "metadata": {
        "id": "b286617f-43b9-4c20-8b0e-5ae0da7e4a9f"
      },
      "outputs": [],
      "source": [
        "import pandas as pd\n",
        "import glob as gb"
      ]
    },
    {
      "cell_type": "markdown",
      "id": "ced62f05-5e3c-4565-b13c-f359fb8c35bf",
      "metadata": {
        "id": "ced62f05-5e3c-4565-b13c-f359fb8c35bf"
      },
      "source": [
        "# Crie uma lista com o título dos arquivos usando a biblioteca Gloob"
      ]
    },
    {
      "cell_type": "code",
      "execution_count": 9,
      "id": "45b0cb8f-d567-4274-877f-53e8faa7d1be",
      "metadata": {
        "id": "45b0cb8f-d567-4274-877f-53e8faa7d1be",
        "outputId": "48bb56d4-cf2e-4fce-8b6c-b1ec3c9381ae",
        "colab": {
          "base_uri": "https://localhost:8080/"
        }
      },
      "outputs": [
        {
          "output_type": "stream",
          "name": "stdout",
          "text": [
            "['/content/dados/consulta_cand_2022_AP.csv', '/content/dados/consulta_cand_2022_PA.csv']\n"
          ]
        }
      ],
      "source": [
        "arquivos = gb.glob('/content/dados/consulta_*2022*.csv')\n",
        "print(arquivos)"
      ]
    },
    {
      "cell_type": "markdown",
      "id": "cf29db73-447b-4375-bad5-2df7aa7c4743",
      "metadata": {
        "id": "cf29db73-447b-4375-bad5-2df7aa7c4743"
      },
      "source": [
        "# Crie um laço (loop) para ler todos os arquivos da lista (usando a biblioteca Pandas) e armazenar os dataframes em uma lista"
      ]
    },
    {
      "cell_type": "code",
      "execution_count": 10,
      "id": "dd63f03d-147e-4fda-ba61-9edb0bdee254",
      "metadata": {
        "id": "dd63f03d-147e-4fda-ba61-9edb0bdee254",
        "outputId": "88eb19ac-182f-4493-fb5f-bb22b57cf2e2",
        "colab": {
          "base_uri": "https://localhost:8080/"
        }
      },
      "outputs": [
        {
          "output_type": "stream",
          "name": "stdout",
          "text": [
            "<class 'pandas.core.frame.DataFrame'>\n",
            "RangeIndex: 557 entries, 0 to 556\n",
            "Data columns (total 71 columns):\n",
            " #   Column                         Non-Null Count  Dtype  \n",
            "---  ------                         --------------  -----  \n",
            " 0   DT_GERACAO                     557 non-null    object \n",
            " 1   HH_GERACAO                     557 non-null    object \n",
            " 2   ANO_ELEICAO                    557 non-null    int64  \n",
            " 3   CD_TIPO_ELEICAO                557 non-null    int64  \n",
            " 4   NM_TIPO_ELEICAO                557 non-null    object \n",
            " 5   NR_TURNO                       557 non-null    int64  \n",
            " 6   CD_ELEICAO                     557 non-null    int64  \n",
            " 7   DS_ELEICAO                     557 non-null    object \n",
            " 8   DT_ELEICAO                     557 non-null    object \n",
            " 9   TP_ABRANGENCIA                 557 non-null    object \n",
            " 10  SG_UF                          557 non-null    object \n",
            " 11  SG_UE                          557 non-null    object \n",
            " 12  NM_UE                          557 non-null    object \n",
            " 13  CD_CARGO                       557 non-null    int64  \n",
            " 14  DS_CARGO                       557 non-null    object \n",
            " 15  SQ_CANDIDATO                   557 non-null    int64  \n",
            " 16  NR_CANDIDATO                   557 non-null    int64  \n",
            " 17  NM_CANDIDATO                   557 non-null    object \n",
            " 18  NM_URNA_CANDIDATO              557 non-null    object \n",
            " 19  NM_SOCIAL_CANDIDATO            557 non-null    object \n",
            " 20  NR_CPF_CANDIDATO               557 non-null    int64  \n",
            " 21  NM_EMAIL                       557 non-null    object \n",
            " 22  CD_SITUACAO_CANDIDATURA        557 non-null    int64  \n",
            " 23  DS_SITUACAO_CANDIDATURA        557 non-null    object \n",
            " 24  CD_DETALHE_SITUACAO_CAND       557 non-null    int64  \n",
            " 25  DS_DETALHE_SITUACAO_CAND       557 non-null    object \n",
            " 26  TP_AGREMIACAO                  557 non-null    object \n",
            " 27  NR_PARTIDO                     557 non-null    int64  \n",
            " 28  SG_PARTIDO                     557 non-null    object \n",
            " 29  NM_PARTIDO                     557 non-null    object \n",
            " 30  NR_FEDERACAO                   88 non-null     float64\n",
            " 31  NM_FEDERACAO                   557 non-null    object \n",
            " 32  SG_FEDERACAO                   557 non-null    object \n",
            " 33  DS_COMPOSICAO_FEDERACAO        557 non-null    object \n",
            " 34  SQ_COLIGACAO                   557 non-null    int64  \n",
            " 35  NM_COLIGACAO                   557 non-null    object \n",
            " 36  DS_COMPOSICAO_COLIGACAO        557 non-null    object \n",
            " 37  CD_NACIONALIDADE               557 non-null    int64  \n",
            " 38  DS_NACIONALIDADE               557 non-null    object \n",
            " 39  SG_UF_NASCIMENTO               557 non-null    object \n",
            " 40  CD_MUNICIPIO_NASCIMENTO        0 non-null      float64\n",
            " 41  NM_MUNICIPIO_NASCIMENTO        557 non-null    object \n",
            " 42  DT_NASCIMENTO                  557 non-null    object \n",
            " 43  NR_IDADE_DATA_POSSE            557 non-null    int64  \n",
            " 44  NR_TITULO_ELEITORAL_CANDIDATO  557 non-null    int64  \n",
            " 45  CD_GENERO                      557 non-null    int64  \n",
            " 46  DS_GENERO                      557 non-null    object \n",
            " 47  CD_GRAU_INSTRUCAO              557 non-null    int64  \n",
            " 48  DS_GRAU_INSTRUCAO              557 non-null    object \n",
            " 49  CD_ESTADO_CIVIL                557 non-null    int64  \n",
            " 50  DS_ESTADO_CIVIL                557 non-null    object \n",
            " 51  CD_COR_RACA                    557 non-null    int64  \n",
            " 52  DS_COR_RACA                    557 non-null    object \n",
            " 53  CD_OCUPACAO                    557 non-null    int64  \n",
            " 54  DS_OCUPACAO                    557 non-null    object \n",
            " 55  VR_DESPESA_MAX_CAMPANHA        532 non-null    float64\n",
            " 56  CD_SIT_TOT_TURNO               517 non-null    float64\n",
            " 57  DS_SIT_TOT_TURNO               557 non-null    object \n",
            " 58  ST_REELEICAO                   557 non-null    object \n",
            " 59  ST_DECLARAR_BENS               557 non-null    object \n",
            " 60  NR_PROTOCOLO_CANDIDATURA       0 non-null      float64\n",
            " 61  NR_PROCESSO                    557 non-null    int64  \n",
            " 62  CD_SITUACAO_CANDIDATO_PLEITO   517 non-null    float64\n",
            " 63  DS_SITUACAO_CANDIDATO_PLEITO   557 non-null    object \n",
            " 64  CD_SITUACAO_CANDIDATO_URNA     517 non-null    float64\n",
            " 65  DS_SITUACAO_CANDIDATO_URNA     557 non-null    object \n",
            " 66  ST_CANDIDATO_INSERIDO_URNA     557 non-null    object \n",
            " 67  NM_TIPO_DESTINACAO_VOTOS       557 non-null    object \n",
            " 68  CD_SITUACAO_CANDIDATO_TOT      517 non-null    float64\n",
            " 69  DS_SITUACAO_CANDIDATO_TOT      557 non-null    object \n",
            " 70  ST_PREST_CONTAS                557 non-null    object \n",
            "dtypes: float64(8), int64(21), object(42)\n",
            "memory usage: 309.1+ KB\n"
          ]
        }
      ],
      "source": [
        "lista_df = []\n",
        "\n",
        "for dados_estado in arquivos:\n",
        "  df_estado = pd.read_csv(dados_estado, sep=';', na_values=['#NULO','#NE', -1, -3], encoding='latin_1')\n",
        "  lista_df.append(df_estado)\n",
        "\n",
        "lista_df[0].info()"
      ]
    },
    {
      "cell_type": "markdown",
      "id": "310bca4e-c1c2-4030-a427-ecda54601106",
      "metadata": {
        "id": "310bca4e-c1c2-4030-a427-ecda54601106"
      },
      "source": [
        "# Concatene todos os dataframes da lista"
      ]
    },
    {
      "cell_type": "code",
      "execution_count": 12,
      "id": "997a08ff-f355-40c1-9257-cf4a196517bd",
      "metadata": {
        "id": "997a08ff-f355-40c1-9257-cf4a196517bd",
        "outputId": "b686eefb-54c4-4494-cc52-3bea97ad01f0",
        "colab": {
          "base_uri": "https://localhost:8080/"
        }
      },
      "outputs": [
        {
          "output_type": "execute_result",
          "data": {
            "text/plain": [
              "(1600, 71)"
            ]
          },
          "metadata": {},
          "execution_count": 12
        }
      ],
      "source": [
        "candidaturas = pd.concat(lista_df, axis=0,ignore_index=True)\n",
        "\n",
        "candidaturas.shape"
      ]
    },
    {
      "cell_type": "markdown",
      "id": "0c1bee1c-a55d-4152-98cd-471028d2d73a",
      "metadata": {
        "id": "0c1bee1c-a55d-4152-98cd-471028d2d73a"
      },
      "source": [
        "# Apresente 5 linhas aleatórias do dataframe"
      ]
    },
    {
      "cell_type": "code",
      "execution_count": 16,
      "id": "b7b7124c-f6fa-4d90-b157-88678e82076e",
      "metadata": {
        "id": "b7b7124c-f6fa-4d90-b157-88678e82076e",
        "outputId": "fc106ef2-48b5-4bd0-f9fb-4423eb4c2fab",
        "colab": {
          "base_uri": "https://localhost:8080/",
          "height": 560
        }
      },
      "outputs": [
        {
          "output_type": "execute_result",
          "data": {
            "text/plain": [
              "      DT_GERACAO HH_GERACAO  ANO_ELEICAO  CD_TIPO_ELEICAO    NM_TIPO_ELEICAO  \\\n",
              "1595  13/05/2023   19:32:48         2022                2  ELEIÇÃO ORDINÁRIA   \n",
              "1596  13/05/2023   19:32:48         2022                2  ELEIÇÃO ORDINÁRIA   \n",
              "1597  13/05/2023   19:32:48         2022                2  ELEIÇÃO ORDINÁRIA   \n",
              "1598  13/05/2023   19:32:48         2022                2  ELEIÇÃO ORDINÁRIA   \n",
              "1599  13/05/2023   19:32:48         2022                2  ELEIÇÃO ORDINÁRIA   \n",
              "\n",
              "      NR_TURNO  CD_ELEICAO                      DS_ELEICAO  DT_ELEICAO  \\\n",
              "1595         1         546  Eleições Gerais Estaduais 2022  02/10/2022   \n",
              "1596         1         546  Eleições Gerais Estaduais 2022  02/10/2022   \n",
              "1597         1         546  Eleições Gerais Estaduais 2022  02/10/2022   \n",
              "1598         1         546  Eleições Gerais Estaduais 2022  02/10/2022   \n",
              "1599         1         546  Eleições Gerais Estaduais 2022  02/10/2022   \n",
              "\n",
              "     TP_ABRANGENCIA  ...          NR_PROCESSO CD_SITUACAO_CANDIDATO_PLEITO  \\\n",
              "1595       ESTADUAL  ...  6002268820226140000                          2.0   \n",
              "1596       ESTADUAL  ...  6005637720226140000                          4.0   \n",
              "1597       ESTADUAL  ...  6004866820226140000                          2.0   \n",
              "1598       ESTADUAL  ...  6004312020226140000                          2.0   \n",
              "1599       ESTADUAL  ...  6009040620226140000                          2.0   \n",
              "\n",
              "     DS_SITUACAO_CANDIDATO_PLEITO  CD_SITUACAO_CANDIDATO_URNA  \\\n",
              "1595                     DEFERIDO                         2.0   \n",
              "1596       INDEFERIDO COM RECURSO                         4.0   \n",
              "1597                     DEFERIDO                         2.0   \n",
              "1598                     DEFERIDO                         2.0   \n",
              "1599                     DEFERIDO                         2.0   \n",
              "\n",
              "     DS_SITUACAO_CANDIDATO_URNA  ST_CANDIDATO_INSERIDO_URNA  \\\n",
              "1595                   DEFERIDO                         SIM   \n",
              "1596     INDEFERIDO COM RECURSO                         SIM   \n",
              "1597                   DEFERIDO                         SIM   \n",
              "1598                   DEFERIDO                         SIM   \n",
              "1599                   DEFERIDO                         SIM   \n",
              "\n",
              "      NM_TIPO_DESTINACAO_VOTOS CD_SITUACAO_CANDIDATO_TOT  \\\n",
              "1595                    Válido                       2.0   \n",
              "1596        Anulado sub judice                       4.0   \n",
              "1597                    Válido                       2.0   \n",
              "1598                    Válido                       2.0   \n",
              "1599                    Válido                       2.0   \n",
              "\n",
              "     DS_SITUACAO_CANDIDATO_TOT ST_PREST_CONTAS  \n",
              "1595                  Deferido               S  \n",
              "1596    Indeferido com recurso               N  \n",
              "1597                  Deferido               S  \n",
              "1598                  Deferido               S  \n",
              "1599                  Deferido               S  \n",
              "\n",
              "[5 rows x 71 columns]"
            ],
            "text/html": [
              "\n",
              "  <div id=\"df-bb4fb616-6add-4861-9e7c-93ad2afec13e\">\n",
              "    <div class=\"colab-df-container\">\n",
              "      <div>\n",
              "<style scoped>\n",
              "    .dataframe tbody tr th:only-of-type {\n",
              "        vertical-align: middle;\n",
              "    }\n",
              "\n",
              "    .dataframe tbody tr th {\n",
              "        vertical-align: top;\n",
              "    }\n",
              "\n",
              "    .dataframe thead th {\n",
              "        text-align: right;\n",
              "    }\n",
              "</style>\n",
              "<table border=\"1\" class=\"dataframe\">\n",
              "  <thead>\n",
              "    <tr style=\"text-align: right;\">\n",
              "      <th></th>\n",
              "      <th>DT_GERACAO</th>\n",
              "      <th>HH_GERACAO</th>\n",
              "      <th>ANO_ELEICAO</th>\n",
              "      <th>CD_TIPO_ELEICAO</th>\n",
              "      <th>NM_TIPO_ELEICAO</th>\n",
              "      <th>NR_TURNO</th>\n",
              "      <th>CD_ELEICAO</th>\n",
              "      <th>DS_ELEICAO</th>\n",
              "      <th>DT_ELEICAO</th>\n",
              "      <th>TP_ABRANGENCIA</th>\n",
              "      <th>...</th>\n",
              "      <th>NR_PROCESSO</th>\n",
              "      <th>CD_SITUACAO_CANDIDATO_PLEITO</th>\n",
              "      <th>DS_SITUACAO_CANDIDATO_PLEITO</th>\n",
              "      <th>CD_SITUACAO_CANDIDATO_URNA</th>\n",
              "      <th>DS_SITUACAO_CANDIDATO_URNA</th>\n",
              "      <th>ST_CANDIDATO_INSERIDO_URNA</th>\n",
              "      <th>NM_TIPO_DESTINACAO_VOTOS</th>\n",
              "      <th>CD_SITUACAO_CANDIDATO_TOT</th>\n",
              "      <th>DS_SITUACAO_CANDIDATO_TOT</th>\n",
              "      <th>ST_PREST_CONTAS</th>\n",
              "    </tr>\n",
              "  </thead>\n",
              "  <tbody>\n",
              "    <tr>\n",
              "      <th>1595</th>\n",
              "      <td>13/05/2023</td>\n",
              "      <td>19:32:48</td>\n",
              "      <td>2022</td>\n",
              "      <td>2</td>\n",
              "      <td>ELEIÇÃO ORDINÁRIA</td>\n",
              "      <td>1</td>\n",
              "      <td>546</td>\n",
              "      <td>Eleições Gerais Estaduais 2022</td>\n",
              "      <td>02/10/2022</td>\n",
              "      <td>ESTADUAL</td>\n",
              "      <td>...</td>\n",
              "      <td>6002268820226140000</td>\n",
              "      <td>2.0</td>\n",
              "      <td>DEFERIDO</td>\n",
              "      <td>2.0</td>\n",
              "      <td>DEFERIDO</td>\n",
              "      <td>SIM</td>\n",
              "      <td>Válido</td>\n",
              "      <td>2.0</td>\n",
              "      <td>Deferido</td>\n",
              "      <td>S</td>\n",
              "    </tr>\n",
              "    <tr>\n",
              "      <th>1596</th>\n",
              "      <td>13/05/2023</td>\n",
              "      <td>19:32:48</td>\n",
              "      <td>2022</td>\n",
              "      <td>2</td>\n",
              "      <td>ELEIÇÃO ORDINÁRIA</td>\n",
              "      <td>1</td>\n",
              "      <td>546</td>\n",
              "      <td>Eleições Gerais Estaduais 2022</td>\n",
              "      <td>02/10/2022</td>\n",
              "      <td>ESTADUAL</td>\n",
              "      <td>...</td>\n",
              "      <td>6005637720226140000</td>\n",
              "      <td>4.0</td>\n",
              "      <td>INDEFERIDO COM RECURSO</td>\n",
              "      <td>4.0</td>\n",
              "      <td>INDEFERIDO COM RECURSO</td>\n",
              "      <td>SIM</td>\n",
              "      <td>Anulado sub judice</td>\n",
              "      <td>4.0</td>\n",
              "      <td>Indeferido com recurso</td>\n",
              "      <td>N</td>\n",
              "    </tr>\n",
              "    <tr>\n",
              "      <th>1597</th>\n",
              "      <td>13/05/2023</td>\n",
              "      <td>19:32:48</td>\n",
              "      <td>2022</td>\n",
              "      <td>2</td>\n",
              "      <td>ELEIÇÃO ORDINÁRIA</td>\n",
              "      <td>1</td>\n",
              "      <td>546</td>\n",
              "      <td>Eleições Gerais Estaduais 2022</td>\n",
              "      <td>02/10/2022</td>\n",
              "      <td>ESTADUAL</td>\n",
              "      <td>...</td>\n",
              "      <td>6004866820226140000</td>\n",
              "      <td>2.0</td>\n",
              "      <td>DEFERIDO</td>\n",
              "      <td>2.0</td>\n",
              "      <td>DEFERIDO</td>\n",
              "      <td>SIM</td>\n",
              "      <td>Válido</td>\n",
              "      <td>2.0</td>\n",
              "      <td>Deferido</td>\n",
              "      <td>S</td>\n",
              "    </tr>\n",
              "    <tr>\n",
              "      <th>1598</th>\n",
              "      <td>13/05/2023</td>\n",
              "      <td>19:32:48</td>\n",
              "      <td>2022</td>\n",
              "      <td>2</td>\n",
              "      <td>ELEIÇÃO ORDINÁRIA</td>\n",
              "      <td>1</td>\n",
              "      <td>546</td>\n",
              "      <td>Eleições Gerais Estaduais 2022</td>\n",
              "      <td>02/10/2022</td>\n",
              "      <td>ESTADUAL</td>\n",
              "      <td>...</td>\n",
              "      <td>6004312020226140000</td>\n",
              "      <td>2.0</td>\n",
              "      <td>DEFERIDO</td>\n",
              "      <td>2.0</td>\n",
              "      <td>DEFERIDO</td>\n",
              "      <td>SIM</td>\n",
              "      <td>Válido</td>\n",
              "      <td>2.0</td>\n",
              "      <td>Deferido</td>\n",
              "      <td>S</td>\n",
              "    </tr>\n",
              "    <tr>\n",
              "      <th>1599</th>\n",
              "      <td>13/05/2023</td>\n",
              "      <td>19:32:48</td>\n",
              "      <td>2022</td>\n",
              "      <td>2</td>\n",
              "      <td>ELEIÇÃO ORDINÁRIA</td>\n",
              "      <td>1</td>\n",
              "      <td>546</td>\n",
              "      <td>Eleições Gerais Estaduais 2022</td>\n",
              "      <td>02/10/2022</td>\n",
              "      <td>ESTADUAL</td>\n",
              "      <td>...</td>\n",
              "      <td>6009040620226140000</td>\n",
              "      <td>2.0</td>\n",
              "      <td>DEFERIDO</td>\n",
              "      <td>2.0</td>\n",
              "      <td>DEFERIDO</td>\n",
              "      <td>SIM</td>\n",
              "      <td>Válido</td>\n",
              "      <td>2.0</td>\n",
              "      <td>Deferido</td>\n",
              "      <td>S</td>\n",
              "    </tr>\n",
              "  </tbody>\n",
              "</table>\n",
              "<p>5 rows × 71 columns</p>\n",
              "</div>\n",
              "      <button class=\"colab-df-convert\" onclick=\"convertToInteractive('df-bb4fb616-6add-4861-9e7c-93ad2afec13e')\"\n",
              "              title=\"Convert this dataframe to an interactive table.\"\n",
              "              style=\"display:none;\">\n",
              "        \n",
              "  <svg xmlns=\"http://www.w3.org/2000/svg\" height=\"24px\"viewBox=\"0 0 24 24\"\n",
              "       width=\"24px\">\n",
              "    <path d=\"M0 0h24v24H0V0z\" fill=\"none\"/>\n",
              "    <path d=\"M18.56 5.44l.94 2.06.94-2.06 2.06-.94-2.06-.94-.94-2.06-.94 2.06-2.06.94zm-11 1L8.5 8.5l.94-2.06 2.06-.94-2.06-.94L8.5 2.5l-.94 2.06-2.06.94zm10 10l.94 2.06.94-2.06 2.06-.94-2.06-.94-.94-2.06-.94 2.06-2.06.94z\"/><path d=\"M17.41 7.96l-1.37-1.37c-.4-.4-.92-.59-1.43-.59-.52 0-1.04.2-1.43.59L10.3 9.45l-7.72 7.72c-.78.78-.78 2.05 0 2.83L4 21.41c.39.39.9.59 1.41.59.51 0 1.02-.2 1.41-.59l7.78-7.78 2.81-2.81c.8-.78.8-2.07 0-2.86zM5.41 20L4 18.59l7.72-7.72 1.47 1.35L5.41 20z\"/>\n",
              "  </svg>\n",
              "      </button>\n",
              "      \n",
              "  <style>\n",
              "    .colab-df-container {\n",
              "      display:flex;\n",
              "      flex-wrap:wrap;\n",
              "      gap: 12px;\n",
              "    }\n",
              "\n",
              "    .colab-df-convert {\n",
              "      background-color: #E8F0FE;\n",
              "      border: none;\n",
              "      border-radius: 50%;\n",
              "      cursor: pointer;\n",
              "      display: none;\n",
              "      fill: #1967D2;\n",
              "      height: 32px;\n",
              "      padding: 0 0 0 0;\n",
              "      width: 32px;\n",
              "    }\n",
              "\n",
              "    .colab-df-convert:hover {\n",
              "      background-color: #E2EBFA;\n",
              "      box-shadow: 0px 1px 2px rgba(60, 64, 67, 0.3), 0px 1px 3px 1px rgba(60, 64, 67, 0.15);\n",
              "      fill: #174EA6;\n",
              "    }\n",
              "\n",
              "    [theme=dark] .colab-df-convert {\n",
              "      background-color: #3B4455;\n",
              "      fill: #D2E3FC;\n",
              "    }\n",
              "\n",
              "    [theme=dark] .colab-df-convert:hover {\n",
              "      background-color: #434B5C;\n",
              "      box-shadow: 0px 1px 3px 1px rgba(0, 0, 0, 0.15);\n",
              "      filter: drop-shadow(0px 1px 2px rgba(0, 0, 0, 0.3));\n",
              "      fill: #FFFFFF;\n",
              "    }\n",
              "  </style>\n",
              "\n",
              "      <script>\n",
              "        const buttonEl =\n",
              "          document.querySelector('#df-bb4fb616-6add-4861-9e7c-93ad2afec13e button.colab-df-convert');\n",
              "        buttonEl.style.display =\n",
              "          google.colab.kernel.accessAllowed ? 'block' : 'none';\n",
              "\n",
              "        async function convertToInteractive(key) {\n",
              "          const element = document.querySelector('#df-bb4fb616-6add-4861-9e7c-93ad2afec13e');\n",
              "          const dataTable =\n",
              "            await google.colab.kernel.invokeFunction('convertToInteractive',\n",
              "                                                     [key], {});\n",
              "          if (!dataTable) return;\n",
              "\n",
              "          const docLinkHtml = 'Like what you see? Visit the ' +\n",
              "            '<a target=\"_blank\" href=https://colab.research.google.com/notebooks/data_table.ipynb>data table notebook</a>'\n",
              "            + ' to learn more about interactive tables.';\n",
              "          element.innerHTML = '';\n",
              "          dataTable['output_type'] = 'display_data';\n",
              "          await google.colab.output.renderOutput(dataTable, element);\n",
              "          const docLink = document.createElement('div');\n",
              "          docLink.innerHTML = docLinkHtml;\n",
              "          element.appendChild(docLink);\n",
              "        }\n",
              "      </script>\n",
              "    </div>\n",
              "  </div>\n",
              "  "
            ]
          },
          "metadata": {},
          "execution_count": 16
        }
      ],
      "source": [
        "candidaturas.sample(5)\n",
        "\n",
        "candidaturas.head()\n",
        "\n",
        "candidaturas.tail()"
      ]
    },
    {
      "cell_type": "markdown",
      "id": "a8238419-ff3d-4f00-bc36-ad1f4da01920",
      "metadata": {
        "id": "a8238419-ff3d-4f00-bc36-ad1f4da01920"
      },
      "source": [
        "# Quantas candidaturas estão em situação de reeleição?"
      ]
    },
    {
      "cell_type": "code",
      "execution_count": 22,
      "id": "28055dde-c74b-403e-bcc3-deb82a828084",
      "metadata": {
        "id": "28055dde-c74b-403e-bcc3-deb82a828084",
        "outputId": "eec27873-4543-4b40-f0e6-c8ca01ec8233",
        "colab": {
          "base_uri": "https://localhost:8080/"
        }
      },
      "outputs": [
        {
          "output_type": "execute_result",
          "data": {
            "text/plain": [
              "N                 0.948750\n",
              "S                 0.050625\n",
              "Não divulgável    0.000625\n",
              "Name: ST_REELEICAO, dtype: float64"
            ]
          },
          "metadata": {},
          "execution_count": 22
        }
      ],
      "source": [
        "candidaturas.columns\n",
        "\n",
        "candidaturas['ST_REELEICAO'].unique()\n",
        "\n",
        "candidaturas['ST_REELEICAO'].value_counts()\n",
        "\n"
      ]
    },
    {
      "cell_type": "markdown",
      "id": "7cd5434f-9c0d-4fb6-a3ef-ce44498fea2e",
      "metadata": {
        "id": "7cd5434f-9c0d-4fb6-a3ef-ce44498fea2e"
      },
      "source": [
        "# Liste todas a ocupações declaradas pelas candidaturas"
      ]
    },
    {
      "cell_type": "code",
      "execution_count": 23,
      "id": "ef30c1ab-703f-4c65-8ba5-1cde6c183f88",
      "metadata": {
        "id": "ef30c1ab-703f-4c65-8ba5-1cde6c183f88",
        "outputId": "f4624404-d400-4735-e194-6512ce26ca14",
        "colab": {
          "base_uri": "https://localhost:8080/"
        }
      },
      "outputs": [
        {
          "output_type": "execute_result",
          "data": {
            "text/plain": [
              "array(['DEPUTADO ESTADUAL', 'DEPUTADO FEDERAL', 'VICE-GOVERNADOR',\n",
              "       'SENADOR', 'GOVERNADOR', '1º SUPLENTE', '2º SUPLENTE'],\n",
              "      dtype=object)"
            ]
          },
          "metadata": {},
          "execution_count": 23
        }
      ],
      "source": [
        "candidaturas['DS_CARGO'].unique()"
      ]
    },
    {
      "cell_type": "code",
      "source": [
        "candidaturas_dep_fed= candidaturas[\n",
        "    candidaturas['DS_CARGO'] == 'DEPUTADO FEDERAL'\n",
        "].copy()"
      ],
      "metadata": {
        "id": "gb8aT34APhwy"
      },
      "id": "gb8aT34APhwy",
      "execution_count": 24,
      "outputs": []
    },
    {
      "cell_type": "code",
      "source": [
        "candidaturas_dep_fed['DS_CARGO'].unique()"
      ],
      "metadata": {
        "id": "mLEafnrJPtBY",
        "outputId": "1c725562-349b-40da-b629-ea00aaeda0fc",
        "colab": {
          "base_uri": "https://localhost:8080/"
        }
      },
      "id": "mLEafnrJPtBY",
      "execution_count": 25,
      "outputs": [
        {
          "output_type": "execute_result",
          "data": {
            "text/plain": [
              "array(['DEPUTADO FEDERAL'], dtype=object)"
            ]
          },
          "metadata": {},
          "execution_count": 25
        }
      ]
    },
    {
      "cell_type": "code",
      "source": [
        "candidaturas_dep_fed['DS_OCUPACAO'].unique()"
      ],
      "metadata": {
        "id": "CYqw_KJrP5iS",
        "outputId": "85e184ac-70b9-47a6-e167-66ad94483d76",
        "colab": {
          "base_uri": "https://localhost:8080/"
        }
      },
      "id": "CYqw_KJrP5iS",
      "execution_count": 26,
      "outputs": [
        {
          "output_type": "execute_result",
          "data": {
            "text/plain": [
              "array(['EMPRESÁRIO', 'PROFESSOR DE ENSINO SUPERIOR',\n",
              "       'PROFESSOR DE ENSINO FUNDAMENTAL',\n",
              "       'SUPERVISOR, INSPETOR E AGENTE DE COMPRAS E VENDAS', 'OUTROS',\n",
              "       'ADVOGADO', 'COMERCIÁRIO', 'DEPUTADO', 'SERVIDOR PÚBLICO ESTADUAL',\n",
              "       'MÉDICO', 'ANALISTA DE SISTEMAS', 'VEREADOR', 'POLICIAL MILITAR',\n",
              "       'MOTORISTA PARTICULAR', 'ASSISTENTE SOCIAL',\n",
              "       'TÉCNICO DE OBRAS CIVIS, ESTRADAS, SANEAMENTO E ASSEMELHADOS',\n",
              "       'ATLETA PROFISSIONAL E TÉCNICO EM DESPORTOS',\n",
              "       'SERVIDOR PÚBLICO FEDERAL', 'ADMINISTRADOR', 'CANTOR E COMPOSITOR',\n",
              "       'ENGENHEIRO',\n",
              "       'PORTEIRO DE EDIFÍCIO, ASCENSORISTA, GARAGISTA E ZELADOR',\n",
              "       'FISIOTERAPEUTA E TERAPEUTA OCUPACIONAL', 'BOMBEIRO MILITAR',\n",
              "       'PROFESSOR DE ENSINO MÉDIO',\n",
              "       'ESTUDANTE, BOLSISTA, ESTAGIÁRIO E ASSEMELHADOS',\n",
              "       'LOCUTOR E COMENTARISTA DE RÁDIO E TELEVISÃO E RADIALISTA',\n",
              "       'PESCADOR', 'ENFERMEIRO', 'RECEPCIONISTA', 'AGENTE ADMINISTRATIVO',\n",
              "       'SERVIDOR PÚBLICO MUNICIPAL',\n",
              "       'VENDEDOR DE COMÉRCIO VAREJISTA E ATACADISTA',\n",
              "       'SERVIDOR PÚBLICO CIVIL APOSENTADO', 'PECUARISTA',\n",
              "       'APOSENTADO (EXCETO SERVIDOR PÚBLICO)', 'AGRICULTOR', 'ODONTÓLOGO',\n",
              "       'SOCIÓLOGO', 'ARQUITETO', 'MASSAGISTA', 'TÉCNICO EM INFORMÁTICA',\n",
              "       'CORRETOR DE IMÓVEIS, SEGUROS, TÍTULOS E VALORES', 'PEDAGOGO',\n",
              "       'JORNALISTA E REDATOR', 'SENADOR, DEPUTADO E VEREADOR',\n",
              "       'OCUPANTE DE CARGO EM COMISSÃO',\n",
              "       'TÉCNICO DE ENFERMAGEM E ASSEMELHADOS (EXCETO ENFERMEIRO)',\n",
              "       'NUTRICIONISTA E ASSEMELHADOS', 'VETERINÁRIO',\n",
              "       'DIRETOR DE EMPRESAS', 'DONA DE CASA', 'ECONOMISTA',\n",
              "       'VENDEDOR PRACISTA, REPRESENTANTE, CAIXEIRO-VIAJANTE E ASSEMELHADOS',\n",
              "       'SACERDOTE OU MEMBRO DE ORDEM OU SEITA RELIGIOSA', 'COMERCIANTE',\n",
              "       'CONTADOR', 'MOTOBOY', 'PRODUTOR DE ESPETÁCULOS PÚBLICOS',\n",
              "       'BIÓLOGO', 'MILITAR REFORMADO', 'POLICIAL CIVIL', 'FONOAUDIÓLOGO',\n",
              "       'BANCÁRIO E ECONOMIÁRIO', 'MEMBRO DAS FORÇAS ARMADAS',\n",
              "       'ZOOTECNISTA', 'PROFESSOR E INSTRUTOR DE FORMAÇÃO PROFISSIONAL',\n",
              "       'SECRETÁRIO E DATILÓGRAFO',\n",
              "       'AUXILIAR DE ESCRITÓRIO E ASSEMELHADOS', 'GARIMPEIRO',\n",
              "       'ESTETICISTA', 'VIGILANTE',\n",
              "       'CARPINTEIRO, MARCENEIRO E ASSEMELHADOS'], dtype=object)"
            ]
          },
          "metadata": {},
          "execution_count": 26
        }
      ]
    },
    {
      "cell_type": "markdown",
      "id": "f92cd033-7c9a-47ac-acad-d5db0035e6ff",
      "metadata": {
        "id": "f92cd033-7c9a-47ac-acad-d5db0035e6ff"
      },
      "source": [
        "# Quantos anos tem a pessoa candidata mais velha?"
      ]
    },
    {
      "cell_type": "code",
      "execution_count": 30,
      "id": "53b023a1-812e-4587-897d-703bf0a2a746",
      "metadata": {
        "id": "53b023a1-812e-4587-897d-703bf0a2a746",
        "outputId": "b4d414d3-4a34-44e4-bd9d-c1c96dbebf02",
        "colab": {
          "base_uri": "https://localhost:8080/"
        }
      },
      "outputs": [
        {
          "output_type": "execute_result",
          "data": {
            "text/plain": [
              "22.0"
            ]
          },
          "metadata": {},
          "execution_count": 30
        }
      ],
      "source": [
        "candidaturas_dep_fed['NR_IDADE_DATA_POSSE'].max()\n",
        "\n"
      ]
    },
    {
      "cell_type": "markdown",
      "id": "de5c48c3-c0b9-418c-bba2-bb20c5312bd8",
      "metadata": {
        "id": "de5c48c3-c0b9-418c-bba2-bb20c5312bd8"
      },
      "source": [
        "# Quantos anos tem a pessoa candidata mais jovem?"
      ]
    },
    {
      "cell_type": "code",
      "execution_count": 31,
      "id": "19c454cb-784f-48ab-8a82-61343b045bb8",
      "metadata": {
        "id": "19c454cb-784f-48ab-8a82-61343b045bb8"
      },
      "outputs": [],
      "source": [
        "idade_minima = candidaturas_dep_fed['NR_IDADE_DATA_POSSE'].min()\n",
        "idade_maxima = candidaturas_dep_fed['NR_IDADE_DATA_POSSE'].max()"
      ]
    },
    {
      "cell_type": "markdown",
      "id": "f18ae4e7-ccca-4152-9971-65c543847936",
      "metadata": {
        "id": "f18ae4e7-ccca-4152-9971-65c543847936"
      },
      "source": [
        "# Qual é o nome da pessoa candidata mais velha?"
      ]
    },
    {
      "cell_type": "code",
      "execution_count": 35,
      "id": "c7059bae-72e9-4c4b-ae70-71c9085b2a1f",
      "metadata": {
        "id": "c7059bae-72e9-4c4b-ae70-71c9085b2a1f",
        "outputId": "abc306e2-30c6-4b12-e1d8-f25c61c88215",
        "colab": {
          "base_uri": "https://localhost:8080/"
        }
      },
      "outputs": [
        {
          "output_type": "execute_result",
          "data": {
            "text/plain": [
              "372         AMANDA CAVALCANTE JARDIM\n",
              "711    WERLLEY FILHO MORAES OLIVEIRA\n",
              "718         YANDER DAVI AMARAL LEITE\n",
              "Name: NM_CANDIDATO, dtype: object"
            ]
          },
          "metadata": {},
          "execution_count": 35
        }
      ],
      "source": [
        "candidata_mais_velha = candidaturas_dep_fed[\n",
        "    candidaturas_dep_fed['NR_IDADE_DATA_POSSE'] == idade_minima ]['NM_CANDIDATO']\n",
        "\n",
        "candidata_mais_velha"
      ]
    },
    {
      "cell_type": "markdown",
      "id": "f6ddfb4c-7012-4f0b-befb-f44cde4c06a8",
      "metadata": {
        "id": "f6ddfb4c-7012-4f0b-befb-f44cde4c06a8"
      },
      "source": [
        "# Quantas candidaturas existem para \"Deputado federal\" seu estado?"
      ]
    },
    {
      "cell_type": "code",
      "source": [
        "candidaturas_dep_fed.shape[0]"
      ],
      "metadata": {
        "id": "lZABb87BUGX_",
        "outputId": "626dc4bf-18cf-4ab3-b19f-aaac8f708dc5",
        "colab": {
          "base_uri": "https://localhost:8080/"
        }
      },
      "id": "lZABb87BUGX_",
      "execution_count": 36,
      "outputs": [
        {
          "output_type": "execute_result",
          "data": {
            "text/plain": [
              "477"
            ]
          },
          "metadata": {},
          "execution_count": 36
        }
      ]
    },
    {
      "cell_type": "markdown",
      "id": "6658e4f9-9271-4f0e-b6f8-575e33e5d8c9",
      "metadata": {
        "id": "6658e4f9-9271-4f0e-b6f8-575e33e5d8c9"
      },
      "source": [
        "# Qual é a média do valor máximo de despesas de campanha?"
      ]
    },
    {
      "cell_type": "code",
      "execution_count": 37,
      "id": "1b8283db-c218-44cd-908b-e4a2f041a435",
      "metadata": {
        "id": "1b8283db-c218-44cd-908b-e4a2f041a435",
        "outputId": "edbfae9e-52cd-4c47-f80b-7f7e92dd40f3",
        "colab": {
          "base_uri": "https://localhost:8080/"
        }
      },
      "outputs": [
        {
          "output_type": "execute_result",
          "data": {
            "text/plain": [
              "3176572.5"
            ]
          },
          "metadata": {},
          "execution_count": 37
        }
      ],
      "source": [
        "media = candidaturas_dep_fed['VR_DESPESA_MAX_CAMPANHA'].mean()\n",
        "\n",
        "round(media,1)"
      ]
    }
  ],
  "metadata": {
    "kernelspec": {
      "display_name": "Python 3 (ipykernel)",
      "language": "python",
      "name": "python3"
    },
    "language_info": {
      "codemirror_mode": {
        "name": "ipython",
        "version": 3
      },
      "file_extension": ".py",
      "mimetype": "text/x-python",
      "name": "python",
      "nbconvert_exporter": "python",
      "pygments_lexer": "ipython3",
      "version": "3.10.6"
    },
    "colab": {
      "provenance": []
    }
  },
  "nbformat": 4,
  "nbformat_minor": 5
}